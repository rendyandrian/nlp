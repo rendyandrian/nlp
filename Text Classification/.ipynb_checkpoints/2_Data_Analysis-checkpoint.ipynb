{
 "cells": [
  {
   "cell_type": "markdown",
   "metadata": {},
   "source": [
    "# 2. Data Analysis"
   ]
  },
  {
   "cell_type": "code",
   "execution_count": 3,
   "metadata": {},
   "outputs": [
    {
     "name": "stdout",
     "output_type": "stream",
     "text": [
      "Collecting altair\n",
      "  Downloading https://files.pythonhosted.org/packages/34/24/3e50e226a79db1bb1427bf8c58cc4dc7c2f74c39b728af005f4b11d1760c/altair-3.2.0-py2.py3-none-any.whl (596kB)\n",
      "Collecting vega_datasets\n",
      "  Downloading https://files.pythonhosted.org/packages/0a/53/00c0d891e2da61442745aa5f6677e93b68ea247b49ed70a7da1dd764760f/vega_datasets-0.7.0-py2.py3-none-any.whl (209kB)\n",
      "Collecting notebook\n",
      "  Downloading https://files.pythonhosted.org/packages/f5/69/d2ffaf7efc20ce47469187e3a41e6e03e17b45de5a6559f4e7ab3eace5e1/notebook-6.0.2-py3-none-any.whl (9.7MB)\n",
      "Collecting vega\n",
      "  Downloading https://files.pythonhosted.org/packages/2b/cf/72b9200c09464ca28e38f1dec85d1773858fd641fae3a97c64d1fc495b27/vega-2.6.0-py3-none-any.whl (2.2MB)\n",
      "Requirement already satisfied, skipping upgrade: numpy in c:\\users\\rendy andrian\\anaconda3\\lib\\site-packages (from altair) (1.16.4)\n",
      "Requirement already satisfied, skipping upgrade: jinja2 in c:\\users\\rendy andrian\\anaconda3\\lib\\site-packages (from altair) (2.10.1)\n",
      "Requirement already satisfied, skipping upgrade: entrypoints in c:\\users\\rendy andrian\\anaconda3\\lib\\site-packages (from altair) (0.3)\n",
      "Requirement already satisfied, skipping upgrade: toolz in c:\\users\\rendy andrian\\anaconda3\\lib\\site-packages (from altair) (0.10.0)\n",
      "Requirement already satisfied, skipping upgrade: jsonschema in c:\\users\\rendy andrian\\anaconda3\\lib\\site-packages (from altair) (3.0.1)\n",
      "Requirement already satisfied, skipping upgrade: pandas in c:\\users\\rendy andrian\\anaconda3\\lib\\site-packages (from altair) (0.24.2)\n",
      "Requirement already satisfied, skipping upgrade: six in c:\\users\\rendy andrian\\anaconda3\\lib\\site-packages (from altair) (1.12.0)\n",
      "Requirement already satisfied, skipping upgrade: prometheus-client in c:\\users\\rendy andrian\\anaconda3\\lib\\site-packages (from notebook) (0.7.1)\n",
      "Collecting jupyter-client>=5.3.4 (from notebook)\n",
      "  Downloading https://files.pythonhosted.org/packages/13/81/fe0eee1bcf949851a120254b1f530ae1e01bdde2d3ab9710c6ff81525061/jupyter_client-5.3.4-py2.py3-none-any.whl (92kB)\n",
      "Requirement already satisfied, skipping upgrade: pyzmq>=17 in c:\\users\\rendy andrian\\anaconda3\\lib\\site-packages (from notebook) (18.0.0)\n",
      "Requirement already satisfied, skipping upgrade: tornado>=5.0 in c:\\users\\rendy andrian\\anaconda3\\lib\\site-packages (from notebook) (6.0.3)\n",
      "Collecting jupyter-core>=4.6.0 (from notebook)\n",
      "  Downloading https://files.pythonhosted.org/packages/fb/82/86437f661875e30682e99d04c13ba6c216f86f5f6ca6ef212d3ee8b6ca11/jupyter_core-4.6.1-py2.py3-none-any.whl (82kB)\n",
      "Requirement already satisfied, skipping upgrade: nbformat in c:\\users\\rendy andrian\\anaconda3\\lib\\site-packages (from notebook) (4.4.0)\n",
      "Requirement already satisfied, skipping upgrade: nbconvert in c:\\users\\rendy andrian\\anaconda3\\lib\\site-packages (from notebook) (5.5.0)\n",
      "Requirement already satisfied, skipping upgrade: ipykernel in c:\\users\\rendy andrian\\anaconda3\\lib\\site-packages (from notebook) (5.1.1)\n",
      "Requirement already satisfied, skipping upgrade: Send2Trash in c:\\users\\rendy andrian\\anaconda3\\lib\\site-packages (from notebook) (1.5.0)\n",
      "Requirement already satisfied, skipping upgrade: traitlets>=4.2.1 in c:\\users\\rendy andrian\\anaconda3\\lib\\site-packages (from notebook) (4.3.2)\n",
      "Requirement already satisfied, skipping upgrade: ipython-genutils in c:\\users\\rendy andrian\\anaconda3\\lib\\site-packages (from notebook) (0.2.0)\n",
      "Requirement already satisfied, skipping upgrade: terminado>=0.8.1 in c:\\users\\rendy andrian\\anaconda3\\lib\\site-packages (from notebook) (0.8.2)\n",
      "Requirement already satisfied, skipping upgrade: MarkupSafe>=0.23 in c:\\users\\rendy andrian\\anaconda3\\lib\\site-packages (from jinja2->altair) (1.1.1)\n",
      "Requirement already satisfied, skipping upgrade: attrs>=17.4.0 in c:\\users\\rendy andrian\\anaconda3\\lib\\site-packages (from jsonschema->altair) (19.1.0)\n",
      "Requirement already satisfied, skipping upgrade: pyrsistent>=0.14.0 in c:\\users\\rendy andrian\\anaconda3\\lib\\site-packages (from jsonschema->altair) (0.14.11)\n",
      "Requirement already satisfied, skipping upgrade: setuptools in c:\\users\\rendy andrian\\anaconda3\\lib\\site-packages (from jsonschema->altair) (41.0.1)\n",
      "Requirement already satisfied, skipping upgrade: python-dateutil>=2.5.0 in c:\\users\\rendy andrian\\anaconda3\\lib\\site-packages (from pandas->altair) (2.8.0)\n",
      "Requirement already satisfied, skipping upgrade: pytz>=2011k in c:\\users\\rendy andrian\\anaconda3\\lib\\site-packages (from pandas->altair) (2019.1)\n",
      "Requirement already satisfied, skipping upgrade: pywin32>=1.0; sys_platform == \"win32\" in c:\\users\\rendy andrian\\anaconda3\\lib\\site-packages (from jupyter-client>=5.3.4->notebook) (223)\n",
      "Requirement already satisfied, skipping upgrade: pandocfilters>=1.4.1 in c:\\users\\rendy andrian\\anaconda3\\lib\\site-packages (from nbconvert->notebook) (1.4.2)\n",
      "Requirement already satisfied, skipping upgrade: mistune>=0.8.1 in c:\\users\\rendy andrian\\anaconda3\\lib\\site-packages (from nbconvert->notebook) (0.8.4)\n",
      "Requirement already satisfied, skipping upgrade: testpath in c:\\users\\rendy andrian\\anaconda3\\lib\\site-packages (from nbconvert->notebook) (0.4.2)\n",
      "Requirement already satisfied, skipping upgrade: bleach in c:\\users\\rendy andrian\\anaconda3\\lib\\site-packages (from nbconvert->notebook) (3.1.0)\n",
      "Requirement already satisfied, skipping upgrade: pygments in c:\\users\\rendy andrian\\anaconda3\\lib\\site-packages (from nbconvert->notebook) (2.4.2)\n",
      "Requirement already satisfied, skipping upgrade: defusedxml in c:\\users\\rendy andrian\\anaconda3\\lib\\site-packages (from nbconvert->notebook) (0.6.0)\n",
      "Requirement already satisfied, skipping upgrade: ipython>=5.0.0 in c:\\users\\rendy andrian\\anaconda3\\lib\\site-packages (from ipykernel->notebook) (7.6.1)\n",
      "Requirement already satisfied, skipping upgrade: decorator in c:\\users\\rendy andrian\\anaconda3\\lib\\site-packages (from traitlets>=4.2.1->notebook) (4.4.0)\n",
      "Requirement already satisfied, skipping upgrade: webencodings in c:\\users\\rendy andrian\\anaconda3\\lib\\site-packages (from bleach->nbconvert->notebook) (0.5.1)\n",
      "Requirement already satisfied, skipping upgrade: backcall in c:\\users\\rendy andrian\\anaconda3\\lib\\site-packages (from ipython>=5.0.0->ipykernel->notebook) (0.1.0)\n",
      "Requirement already satisfied, skipping upgrade: colorama; sys_platform == \"win32\" in c:\\users\\rendy andrian\\anaconda3\\lib\\site-packages (from ipython>=5.0.0->ipykernel->notebook) (0.4.1)\n",
      "Requirement already satisfied, skipping upgrade: prompt-toolkit<2.1.0,>=2.0.0 in c:\\users\\rendy andrian\\anaconda3\\lib\\site-packages (from ipython>=5.0.0->ipykernel->notebook) (2.0.9)\n",
      "Requirement already satisfied, skipping upgrade: jedi>=0.10 in c:\\users\\rendy andrian\\anaconda3\\lib\\site-packages (from ipython>=5.0.0->ipykernel->notebook) (0.13.3)\n",
      "Requirement already satisfied, skipping upgrade: pickleshare in c:\\users\\rendy andrian\\anaconda3\\lib\\site-packages (from ipython>=5.0.0->ipykernel->notebook) (0.7.5)\n",
      "Requirement already satisfied, skipping upgrade: wcwidth in c:\\users\\rendy andrian\\anaconda3\\lib\\site-packages (from prompt-toolkit<2.1.0,>=2.0.0->ipython>=5.0.0->ipykernel->notebook) (0.1.7)\n",
      "Requirement already satisfied, skipping upgrade: parso>=0.3.0 in c:\\users\\rendy andrian\\anaconda3\\lib\\site-packages (from jedi>=0.10->ipython>=5.0.0->ipykernel->notebook) (0.5.0)\n",
      "Installing collected packages: altair, vega-datasets, jupyter-core, jupyter-client, notebook, vega\n",
      "  Found existing installation: jupyter-core 4.5.0\n",
      "    Uninstalling jupyter-core-4.5.0:\n",
      "      Successfully uninstalled jupyter-core-4.5.0\n",
      "  Found existing installation: jupyter-client 5.3.1\n",
      "    Uninstalling jupyter-client-5.3.1:\n",
      "      Successfully uninstalled jupyter-client-5.3.1\n",
      "  Found existing installation: notebook 6.0.0\n",
      "    Uninstalling notebook-6.0.0:\n",
      "      Successfully uninstalled notebook-6.0.0\n"
     ]
    },
    {
     "name": "stderr",
     "output_type": "stream",
     "text": [
      "ERROR: Could not install packages due to an EnvironmentError: [WinError 5] Access is denied: 'C:\\\\Users\\\\RENDYA~1\\\\AppData\\\\Local\\\\Temp\\\\pip-uninstall-ggb6_jqr\\\\jupyter-notebook.exe'\n",
      "Consider using the `--user` option or check the permissions.\n",
      "\n"
     ]
    }
   ],
   "source": [
    "#import vega untuk upgrade altair\n",
    "!pip install --upgrade altair vega_datasets notebook vega"
   ]
  },
  {
   "cell_type": "code",
   "execution_count": 2,
   "metadata": {},
   "outputs": [
    {
     "name": "stdout",
     "output_type": "stream",
     "text": [
      "Collecting jupyterlab\n",
      "  Downloading https://files.pythonhosted.org/packages/eb/94/cd9e53b9d3e4c35202dec30e1b623c355bd9de2b0c53e1bc7f4af31d25d8/jupyterlab-1.2.3-py2.py3-none-any.whl (6.4MB)\n",
      "Requirement already satisfied, skipping upgrade: jinja2>=2.10 in c:\\users\\rendy andrian\\anaconda3\\lib\\site-packages (from jupyterlab) (2.10.1)\n",
      "Requirement already satisfied, skipping upgrade: tornado!=6.0.0,!=6.0.1,!=6.0.2 in c:\\users\\rendy andrian\\anaconda3\\lib\\site-packages (from jupyterlab) (6.0.3)\n",
      "Requirement already satisfied, skipping upgrade: notebook>=4.3.1 in c:\\users\\rendy andrian\\anaconda3\\lib\\site-packages (from jupyterlab) (6.0.2)\n",
      "Requirement already satisfied, skipping upgrade: jupyterlab-server~=1.0.0 in c:\\users\\rendy andrian\\anaconda3\\lib\\site-packages (from jupyterlab) (1.0.0)\n",
      "Requirement already satisfied, skipping upgrade: MarkupSafe>=0.23 in c:\\users\\rendy andrian\\anaconda3\\lib\\site-packages (from jinja2>=2.10->jupyterlab) (1.1.1)\n",
      "Requirement already satisfied, skipping upgrade: Send2Trash in c:\\users\\rendy andrian\\anaconda3\\lib\\site-packages (from notebook>=4.3.1->jupyterlab) (1.5.0)\n",
      "Requirement already satisfied, skipping upgrade: jupyter-core>=4.6.0 in c:\\users\\rendy andrian\\anaconda3\\lib\\site-packages (from notebook>=4.3.1->jupyterlab) (4.6.1)\n",
      "Requirement already satisfied, skipping upgrade: jupyter-client>=5.3.4 in c:\\users\\rendy andrian\\anaconda3\\lib\\site-packages (from notebook>=4.3.1->jupyterlab) (5.3.4)\n",
      "Requirement already satisfied, skipping upgrade: prometheus-client in c:\\users\\rendy andrian\\anaconda3\\lib\\site-packages (from notebook>=4.3.1->jupyterlab) (0.7.1)\n",
      "Requirement already satisfied, skipping upgrade: terminado>=0.8.1 in c:\\users\\rendy andrian\\anaconda3\\lib\\site-packages (from notebook>=4.3.1->jupyterlab) (0.8.2)\n",
      "Requirement already satisfied, skipping upgrade: nbconvert in c:\\users\\rendy andrian\\anaconda3\\lib\\site-packages (from notebook>=4.3.1->jupyterlab) (5.5.0)\n",
      "Requirement already satisfied, skipping upgrade: nbformat in c:\\users\\rendy andrian\\anaconda3\\lib\\site-packages (from notebook>=4.3.1->jupyterlab) (4.4.0)\n",
      "Requirement already satisfied, skipping upgrade: traitlets>=4.2.1 in c:\\users\\rendy andrian\\anaconda3\\lib\\site-packages (from notebook>=4.3.1->jupyterlab) (4.3.2)\n",
      "Requirement already satisfied, skipping upgrade: pyzmq>=17 in c:\\users\\rendy andrian\\anaconda3\\lib\\site-packages (from notebook>=4.3.1->jupyterlab) (18.0.0)\n",
      "Requirement already satisfied, skipping upgrade: ipython-genutils in c:\\users\\rendy andrian\\anaconda3\\lib\\site-packages (from notebook>=4.3.1->jupyterlab) (0.2.0)\n",
      "Requirement already satisfied, skipping upgrade: ipykernel in c:\\users\\rendy andrian\\anaconda3\\lib\\site-packages (from notebook>=4.3.1->jupyterlab) (5.1.1)\n",
      "Requirement already satisfied, skipping upgrade: jsonschema>=3.0.1 in c:\\users\\rendy andrian\\anaconda3\\lib\\site-packages (from jupyterlab-server~=1.0.0->jupyterlab) (3.0.1)\n",
      "Requirement already satisfied, skipping upgrade: json5 in c:\\users\\rendy andrian\\anaconda3\\lib\\site-packages (from jupyterlab-server~=1.0.0->jupyterlab) (0.8.4)\n",
      "Requirement already satisfied, skipping upgrade: pywin32>=1.0; sys_platform == \"win32\" in c:\\users\\rendy andrian\\anaconda3\\lib\\site-packages (from jupyter-core>=4.6.0->notebook>=4.3.1->jupyterlab) (223)\n",
      "Requirement already satisfied, skipping upgrade: python-dateutil>=2.1 in c:\\users\\rendy andrian\\anaconda3\\lib\\site-packages (from jupyter-client>=5.3.4->notebook>=4.3.1->jupyterlab) (2.8.0)\n",
      "Requirement already satisfied, skipping upgrade: testpath in c:\\users\\rendy andrian\\anaconda3\\lib\\site-packages (from nbconvert->notebook>=4.3.1->jupyterlab) (0.4.2)\n",
      "Requirement already satisfied, skipping upgrade: bleach in c:\\users\\rendy andrian\\anaconda3\\lib\\site-packages (from nbconvert->notebook>=4.3.1->jupyterlab) (3.1.0)\n",
      "Requirement already satisfied, skipping upgrade: mistune>=0.8.1 in c:\\users\\rendy andrian\\anaconda3\\lib\\site-packages (from nbconvert->notebook>=4.3.1->jupyterlab) (0.8.4)\n",
      "Requirement already satisfied, skipping upgrade: entrypoints>=0.2.2 in c:\\users\\rendy andrian\\anaconda3\\lib\\site-packages (from nbconvert->notebook>=4.3.1->jupyterlab) (0.3)\n",
      "Requirement already satisfied, skipping upgrade: pygments in c:\\users\\rendy andrian\\anaconda3\\lib\\site-packages (from nbconvert->notebook>=4.3.1->jupyterlab) (2.4.2)\n",
      "Requirement already satisfied, skipping upgrade: defusedxml in c:\\users\\rendy andrian\\anaconda3\\lib\\site-packages (from nbconvert->notebook>=4.3.1->jupyterlab) (0.6.0)\n",
      "Requirement already satisfied, skipping upgrade: pandocfilters>=1.4.1 in c:\\users\\rendy andrian\\anaconda3\\lib\\site-packages (from nbconvert->notebook>=4.3.1->jupyterlab) (1.4.2)\n",
      "Requirement already satisfied, skipping upgrade: decorator in c:\\users\\rendy andrian\\anaconda3\\lib\\site-packages (from traitlets>=4.2.1->notebook>=4.3.1->jupyterlab) (4.4.0)\n",
      "Requirement already satisfied, skipping upgrade: six in c:\\users\\rendy andrian\\anaconda3\\lib\\site-packages (from traitlets>=4.2.1->notebook>=4.3.1->jupyterlab) (1.12.0)\n",
      "Requirement already satisfied, skipping upgrade: ipython>=5.0.0 in c:\\users\\rendy andrian\\anaconda3\\lib\\site-packages (from ipykernel->notebook>=4.3.1->jupyterlab) (7.6.1)\n",
      "Requirement already satisfied, skipping upgrade: attrs>=17.4.0 in c:\\users\\rendy andrian\\anaconda3\\lib\\site-packages (from jsonschema>=3.0.1->jupyterlab-server~=1.0.0->jupyterlab) (19.1.0)\n",
      "Requirement already satisfied, skipping upgrade: pyrsistent>=0.14.0 in c:\\users\\rendy andrian\\anaconda3\\lib\\site-packages (from jsonschema>=3.0.1->jupyterlab-server~=1.0.0->jupyterlab) (0.14.11)\n",
      "Requirement already satisfied, skipping upgrade: setuptools in c:\\users\\rendy andrian\\anaconda3\\lib\\site-packages (from jsonschema>=3.0.1->jupyterlab-server~=1.0.0->jupyterlab) (41.0.1)\n",
      "Requirement already satisfied, skipping upgrade: webencodings in c:\\users\\rendy andrian\\anaconda3\\lib\\site-packages (from bleach->nbconvert->notebook>=4.3.1->jupyterlab) (0.5.1)\n",
      "Requirement already satisfied, skipping upgrade: backcall in c:\\users\\rendy andrian\\anaconda3\\lib\\site-packages (from ipython>=5.0.0->ipykernel->notebook>=4.3.1->jupyterlab) (0.1.0)\n",
      "Requirement already satisfied, skipping upgrade: colorama; sys_platform == \"win32\" in c:\\users\\rendy andrian\\anaconda3\\lib\\site-packages (from ipython>=5.0.0->ipykernel->notebook>=4.3.1->jupyterlab) (0.4.1)\n",
      "Requirement already satisfied, skipping upgrade: prompt-toolkit<2.1.0,>=2.0.0 in c:\\users\\rendy andrian\\anaconda3\\lib\\site-packages (from ipython>=5.0.0->ipykernel->notebook>=4.3.1->jupyterlab) (2.0.9)\n",
      "Requirement already satisfied, skipping upgrade: pickleshare in c:\\users\\rendy andrian\\anaconda3\\lib\\site-packages (from ipython>=5.0.0->ipykernel->notebook>=4.3.1->jupyterlab) (0.7.5)\n",
      "Requirement already satisfied, skipping upgrade: jedi>=0.10 in c:\\users\\rendy andrian\\anaconda3\\lib\\site-packages (from ipython>=5.0.0->ipykernel->notebook>=4.3.1->jupyterlab) (0.13.3)\n",
      "Requirement already satisfied, skipping upgrade: wcwidth in c:\\users\\rendy andrian\\anaconda3\\lib\\site-packages (from prompt-toolkit<2.1.0,>=2.0.0->ipython>=5.0.0->ipykernel->notebook>=4.3.1->jupyterlab) (0.1.7)\n",
      "Requirement already satisfied, skipping upgrade: parso>=0.3.0 in c:\\users\\rendy andrian\\anaconda3\\lib\\site-packages (from jedi>=0.10->ipython>=5.0.0->ipykernel->notebook>=4.3.1->jupyterlab) (0.5.0)\n",
      "Installing collected packages: jupyterlab\n",
      "  Found existing installation: jupyterlab 1.0.2\n",
      "    Uninstalling jupyterlab-1.0.2:\n",
      "      Successfully uninstalled jupyterlab-1.0.2\n",
      "Successfully installed jupyterlab-1.2.3\n"
     ]
    }
   ],
   "source": [
    "!pip install -U jupyterlab"
   ]
  },
  {
   "cell_type": "code",
   "execution_count": 12,
   "metadata": {},
   "outputs": [],
   "source": [
    "# The aim of this script is to create a dataset with the following information:\n",
    "#   - Name of the article\n",
    "#   - Content of the article\n",
    "#   - Category of the article\n",
    "\n",
    "import pandas as pd\n",
    "import matplotlib.pyplot as plt\n",
    "import pickle\n",
    "import seaborn as sns\n",
    "sns.set_style(\"whitegrid\")\n",
    "import altair as alt\n",
    "# alt.renderers.enable(\"notebook\")\n",
    "# import vega\n",
    "import warnings\n",
    "warnings.filterwarnings(\"ignore\")\n"
   ]
  },
  {
   "cell_type": "code",
   "execution_count": 4,
   "metadata": {},
   "outputs": [
    {
     "data": {
      "text/html": [
       "<div>\n",
       "<style scoped>\n",
       "    .dataframe tbody tr th:only-of-type {\n",
       "        vertical-align: middle;\n",
       "    }\n",
       "\n",
       "    .dataframe tbody tr th {\n",
       "        vertical-align: top;\n",
       "    }\n",
       "\n",
       "    .dataframe thead th {\n",
       "        text-align: right;\n",
       "    }\n",
       "</style>\n",
       "<table border=\"1\" class=\"dataframe\">\n",
       "  <thead>\n",
       "    <tr style=\"text-align: right;\">\n",
       "      <th></th>\n",
       "      <th>File_Name</th>\n",
       "      <th>Category</th>\n",
       "      <th>Content</th>\n",
       "    </tr>\n",
       "  </thead>\n",
       "  <tbody>\n",
       "    <tr>\n",
       "      <th>0</th>\n",
       "      <td>Data/bbc\\business\\001.txt</td>\n",
       "      <td>business</td>\n",
       "      <td>Ad sales boost Time Warner profit\\n\\nQuarterly...</td>\n",
       "    </tr>\n",
       "    <tr>\n",
       "      <th>1</th>\n",
       "      <td>Data/bbc\\business\\002.txt</td>\n",
       "      <td>business</td>\n",
       "      <td>Dollar gains on Greenspan speech\\n\\nThe dollar...</td>\n",
       "    </tr>\n",
       "    <tr>\n",
       "      <th>2</th>\n",
       "      <td>Data/bbc\\business\\003.txt</td>\n",
       "      <td>business</td>\n",
       "      <td>Yukos unit buyer faces loan claim\\n\\nThe owner...</td>\n",
       "    </tr>\n",
       "    <tr>\n",
       "      <th>3</th>\n",
       "      <td>Data/bbc\\business\\004.txt</td>\n",
       "      <td>business</td>\n",
       "      <td>High fuel prices hit BA's profits\\n\\nBritish A...</td>\n",
       "    </tr>\n",
       "    <tr>\n",
       "      <th>4</th>\n",
       "      <td>Data/bbc\\business\\005.txt</td>\n",
       "      <td>business</td>\n",
       "      <td>Pernod takeover talk lifts Domecq\\n\\nShares in...</td>\n",
       "    </tr>\n",
       "  </tbody>\n",
       "</table>\n",
       "</div>"
      ],
      "text/plain": [
       "                   File_Name  Category  \\\n",
       "0  Data/bbc\\business\\001.txt  business   \n",
       "1  Data/bbc\\business\\002.txt  business   \n",
       "2  Data/bbc\\business\\003.txt  business   \n",
       "3  Data/bbc\\business\\004.txt  business   \n",
       "4  Data/bbc\\business\\005.txt  business   \n",
       "\n",
       "                                             Content  \n",
       "0  Ad sales boost Time Warner profit\\n\\nQuarterly...  \n",
       "1  Dollar gains on Greenspan speech\\n\\nThe dollar...  \n",
       "2  Yukos unit buyer faces loan claim\\n\\nThe owner...  \n",
       "3  High fuel prices hit BA's profits\\n\\nBritish A...  \n",
       "4  Pernod takeover talk lifts Domecq\\n\\nShares in...  "
      ]
     },
     "execution_count": 4,
     "metadata": {},
     "output_type": "execute_result"
    }
   ],
   "source": [
    "df_path = 'Data/News_dataset.csv'\n",
    "df = pd.read_csv(df_path,sep=';')\n",
    "df.head()"
   ]
  },
  {
   "cell_type": "code",
   "execution_count": 5,
   "metadata": {},
   "outputs": [
    {
     "data": {
      "application/vnd.vegalite.v3+json": {
       "$schema": "https://vega.github.io/schema/vega-lite/v3.4.0.json",
       "config": {
        "mark": {
         "tooltip": null
        },
        "view": {
         "height": 300,
         "width": 400
        }
       },
       "data": {
        "name": "data-9a2e07ae41b2eda4f5b2023b1a5c9d3a"
       },
       "datasets": {
        "data-9a2e07ae41b2eda4f5b2023b1a5c9d3a": [
         {
          "Category": "business",
          "id": 510
         },
         {
          "Category": "entertainment",
          "id": 386
         },
         {
          "Category": "politics",
          "id": 417
         },
         {
          "Category": "sport",
          "id": 511
         },
         {
          "Category": "tech",
          "id": 401
         }
        ]
       },
       "height": 300,
       "layer": [
        {
         "encoding": {
          "color": {
           "field": "Category",
           "type": "nominal"
          },
          "x": {
           "field": "Category",
           "type": "nominal"
          },
          "y": {
           "axis": {
            "format": ".0%",
            "title": "% of Articles"
           },
           "field": "PercentOfTotal",
           "type": "quantitative"
          }
         },
         "mark": {
          "size": 50,
          "type": "bar"
         },
         "selection": {
          "selector001": {
           "bind": "scales",
           "encodings": [
            "x",
            "y"
           ],
           "type": "interval"
          }
         },
         "transform": [
          {
           "frame": [
            null,
            null
           ],
           "window": [
            {
             "as": "TotalArticles",
             "field": "id",
             "op": "sum"
            }
           ]
          },
          {
           "as": "PercentOfTotal",
           "calculate": "datum.id / datum.TotalArticles"
          }
         ]
        },
        {
         "encoding": {
          "color": {
           "field": "Category",
           "type": "nominal"
          },
          "text": {
           "field": "PercentOfTotal",
           "format": ".1%",
           "type": "quantitative"
          },
          "x": {
           "field": "Category",
           "type": "nominal"
          },
          "y": {
           "axis": {
            "format": ".0%",
            "title": "% of Articles"
           },
           "field": "PercentOfTotal",
           "type": "quantitative"
          }
         },
         "mark": {
          "align": "center",
          "baseline": "bottom",
          "type": "text"
         },
         "transform": [
          {
           "frame": [
            null,
            null
           ],
           "window": [
            {
             "as": "TotalArticles",
             "field": "id",
             "op": "sum"
            }
           ]
          },
          {
           "as": "PercentOfTotal",
           "calculate": "datum.id / datum.TotalArticles"
          }
         ]
        }
       ],
       "title": "% of articles in each category",
       "width": 700
      },
      "text/plain": [
       "<VegaLite 3 object>\n",
       "\n",
       "If you see this message, it means the renderer has not been properly enabled\n",
       "for the frontend that you are using. For more information, see\n",
       "https://altair-viz.github.io/user_guide/troubleshooting.html\n"
      ]
     },
     "execution_count": 5,
     "metadata": {},
     "output_type": "execute_result"
    }
   ],
   "source": [
    "df['id'] = 1\n",
    "df2 = pd.DataFrame(df.groupby('Category').count()['id']).reset_index()\n",
    "\n",
    "bars = alt.Chart(df2).mark_bar(size=50).encode(\n",
    "    x=alt.X('Category'),\n",
    "    y=alt.Y('PercentOfTotal:Q', axis=alt.Axis(format='.0%', title='% of Articles')),\n",
    "    color='Category'\n",
    ").transform_window(\n",
    "    TotalArticles='sum(id)',\n",
    "    frame=[None, None]\n",
    ").transform_calculate(\n",
    "    PercentOfTotal=\"datum.id / datum.TotalArticles\"\n",
    ")\n",
    "\n",
    "text = bars.mark_text(\n",
    "    align='center',\n",
    "    baseline='bottom',\n",
    "    #dx=5  # Nudges text to right so it doesn't appear on top of the bar\n",
    ").encode(\n",
    "    text=alt.Text('PercentOfTotal:Q', format='.1%')\n",
    ")\n",
    "\n",
    "(bars + text).interactive().properties(\n",
    "    height=300, \n",
    "    width=700,\n",
    "    title = \"% of articles in each category\",\n",
    ")"
   ]
  },
  {
   "cell_type": "markdown",
   "metadata": {},
   "source": [
    "**Catatan:** Grafik di atas menandakan bahwa proporsi jumlah artikel pada setiap category bisa dikatakan \"balance\"."
   ]
  },
  {
   "cell_type": "code",
   "execution_count": 6,
   "metadata": {},
   "outputs": [
    {
     "data": {
      "image/png": "[encoded data removed]",
      "text/plain": [
       "<Figure size 921.6x432 with 1 Axes>"
      ]
     },
     "metadata": {
      "needs_background": "light"
     },
     "output_type": "display_data"
    }
   ],
   "source": [
    "df['News_length'] = df['Content'].str.len()\n",
    "\n",
    "plt.figure(figsize=(12.8,6))\n",
    "sns.distplot(df['News_length']).set_title('Distribusi Panjang Berita');"
   ]
  },
  {
   "cell_type": "markdown",
   "metadata": {},
   "source": [
    "**Catatan:** Terlihat bahwa distribusi panjang konten berita terlihat \"skewed\". Ada \"sedikit\" artikel dengan panjang yang jauh lebih besar dibandingkan rata-rata panjang artikel."
   ]
  },
  {
   "cell_type": "code",
   "execution_count": 13,
   "metadata": {},
   "outputs": [
    {
     "data": {
      "text/plain": [
       "count     2225.000000\n",
       "mean      2265.160000\n",
       "std       1364.094636\n",
       "min        503.000000\n",
       "25%       1448.000000\n",
       "50%       1967.000000\n",
       "75%       2804.000000\n",
       "max      25485.000000\n",
       "Name: News_length, dtype: float64"
      ]
     },
     "execution_count": 13,
     "metadata": {},
     "output_type": "execute_result"
    }
   ],
   "source": [
    "df['News_length'].describe()"
   ]
  },
  {
   "cell_type": "code",
   "execution_count": 14,
   "metadata": {},
   "outputs": [
    {
     "data": {
      "text/plain": [
       "2225"
      ]
     },
     "execution_count": 14,
     "metadata": {},
     "output_type": "execute_result"
    }
   ],
   "source": [
    "len(df)"
   ]
  },
  {
   "cell_type": "code",
   "execution_count": 15,
   "metadata": {},
   "outputs": [
    {
     "data": {
      "text/plain": [
       "2113"
      ]
     },
     "execution_count": 15,
     "metadata": {},
     "output_type": "execute_result"
    }
   ],
   "source": [
    "quantile_95 = df['News_length'].quantile(0.95)\n",
    "df_95 = df[df['News_length'] < quantile_95]\n",
    "len(df_95)"
   ]
  },
  {
   "cell_type": "code",
   "execution_count": 16,
   "metadata": {},
   "outputs": [
    {
     "data": {
      "image/png": "[encoded data removed]",
      "text/plain": [
       "<Figure size 921.6x432 with 1 Axes>"
      ]
     },
     "metadata": {},
     "output_type": "display_data"
    }
   ],
   "source": [
    "plt.figure(figsize=(12.8,6))\n",
    "sns.distplot(df_95['News_length']).set_title('Distribusi Panjang Berita');"
   ]
  },
  {
   "cell_type": "code",
   "execution_count": 17,
   "metadata": {},
   "outputs": [
    {
     "data": {
      "text/plain": [
       "7"
      ]
     },
     "execution_count": 17,
     "metadata": {},
     "output_type": "execute_result"
    }
   ],
   "source": [
    "df_more10k = df[df['News_length'] > 10000]\n",
    "len(df_more10k)"
   ]
  },
  {
   "cell_type": "code",
   "execution_count": 18,
   "metadata": {},
   "outputs": [
    {
     "data": {
      "text/plain": [
       "'Scissor Sisters triumph at Brits\\n\\nUS band Scissor Sisters led the winners at the UK music industry\\'s Brit Awards, walking off with three prizes. The flamboyant act scored a hat-trick in the international categories, winning the best group, best album and best newcomer awards. Glasgow group Franz Ferdinand won two prizes, as did Keane and Joss Stone, who was voted best urban act by digital TV viewers. Robbie Williams\\' Angels was named the best song of the past 25 years. Scissor Sisters frontwoman Ana Matronic collected the best international album prize from singer Siouxsie Sioux. She told the audience: \"If you told us a year ago we would be getting these awards today we would have called you crazy. You guys made our dream come true.\"\\n\\nThe band - whose self-titled LP was 2004\\'s biggest-selling album - thanked \"all the members of the sisterhood\", adding: \"We wouldn\\'t be here without you.\" The US band, who opened the show with Take Your Mama, won the best international act and newcomer awards, as well as best international album.\\n\\nFranz Ferdinand, who were shortlisted in five categories, won best rock act and best British group, an award they dedicated to late DJ John Peel. But they missed out on best British live act, which went to Muse. Keane won best British album and breakthrough act. Will Young won the best single prize for Your Game. McFly won the best pop act prize, and Gwen Stefani picked up the best international female artist award. Eminem won the male prize.\\n\\nBest British male artist winner Mike Skinner - aka The Streets - does not usually attend award ceremonies, but the Birmingham hip-hop artist performed his hit Dry Your Eyes at the ceremony. However, he did not collect his prize. A bandmate informed the crowd Skinner was \"in the toilet\". After beating Amy Winehouse, Jamelia, Natasha Bedingfield and PJ Harvey to the best British female prize, Joss Stone said: \"I don\\'t know what to say. I don\\'t like doing this at all. I\\'d like to thank my family for being really supportive and everybody that made my record with me.\" \"I don\\'t even know what to do right now. Thank you all you guys for voting for me, I feel sick right now.\" Viewers of digital music TV channel MTV Base voted Stone the winner in the best urban act category.\\n\\nLittle Britain comedy duo Matt Lucas and David Walliams presented the best song prize to Robbie Williams dressed as his former Take That colleagues Gary Barlow and Howard Donald, leading him to quip he was \"always the talented man of the band\".\\n\\nWilliams\\' track beat songs by Will Young, Queen, Kate Bush and Joy Division in a vote by BBC Radio 2 listeners to mark 25 years of the UK music industry ceremony. It is his 15th Brit award, having already received 10 solo awards and four with Take That. He told the audience: \"I\\'m just amazed that my career keeps going.\" Keane frontman Tom Chaplin thanked fans for enduring \"rubbish gigs\" after they won the British breakthrough act prize. He added: \"A lot of people don\\'t think it\\'s cool that we\\'ve had the guts to be ourselves but it\\'s a vital part of who we are as a band and receiving this is recognition of that.\"\\n\\nNatasha Bedingfield - in the running for best British female and best pop act - performed with her brother Daniel for the first time at Wednesday\\'s event.\\n\\nThe chart-topping siblings duetted on the Chaka Khan hit Ain\\'t Nobody. Meanwhile, Joss Stone performed Right To Be Wrong backed by a gospel choir, while Lemar and Jamelia performed the Robert Palmer track Addicted To Love. Bob Geldof won a prize for his outstanding contribution to music. Of the 15 Brit awards for achievements in 2004, 10 were won by artists tipped in the BBC News website\\'s Sound of 2004 list of artists to watch, published at the start of last year. Scissor Sisters, Franz Ferdinand, Keane, Joss Stone and McFly were all in the Sound of 2004 top 10. The other five Brits winners were already established before Sound of 2004 was compiled. The ceremony will be televised on ITV1 on Thursday.\\n\\n\\n\\nI\\'m speechless. Best song of the last 25 years? Yeah right.\\n\\nI very much doubt that \\'Angels\\' was even the best song of the week that it came out. Like every track Robbie has released as a single, it\\'s a blatant but poor facsimile of something that someone else has done better before.\\n\\nGive us a break...!!!\\n\\nBest song in 25 years, you must be joking. Its good if you like that sort of thing, but really!\\n\\nListened to Angels on Radio 1 this morning when I was driving into work. Had not heard it for a while. I love Robs voice, the lyrics and tune. Perfection!\\n\\nAs usual, the public have short memories when it comes to voting for \"the greatest\". There must be more than a dozen songs in the last 25 years that deserve this award more. It\\'s not exactly groundbreaking. Presumably, the age range that could be bothered to vote is is pretty low...\\n\\nI\\'m actually embarrassed to be British if that is the best song we have produced in the last 25 years!!\\n\\nWhat about The Specials - Ghost Town, The Buzzcocks - Ever Fallen in Love With Someone... Happy Mondays - Kinky Afro, McAlmont & Butler - Yes, Joy Division - Love Will Tear Us Apart... Angels is middle-of-the-road rubbish.\\n\\nAngels is a awful piece of sentimental claptrap. It\\'s musically and lyrically inept; and fantastically overrated, a bit like Mr Williams himself. This result isn\\'t very surprising though, The Brits has a long history of celebrating rubbish music!\\n\\nBest of the last 25 years? Maybe. Cunning to make the timescale not include Stairway to Heaven or Bohemian Rhapsody, but it does kind of make it a bit of a hollow award really. Not much competition in the last 25 years after all.\\n\\nIt\\'s alright for a pop song - but the best song of the last 25 years???\\n\\nThere is no way on earth that song should have been voted the best of the last 25 years....it\\'s a travesty.\\n\\nRubbish! Who voted it for it to be included in any list? I am a regular listener to Radio 2 but I don\\'t recall the invitation to vote for this bland, slushy rubbish which might appeal to the masses who wouldn\\'t know a good song if it jumped up and bit them on the nose but is certainly NOT the best song of the last 25 years. How depressing and just when we thought manufactured \\'pop\\' was on the way out - where on earth did this dreadful list appear from?\\n\\nWhile I am biassed in that I thought Love Will Tear Us Apart should have won, in all seriousness, I think that the best song of the last 25 years should not include songs less than 5 years old as that would exclude songs which are popular because of novelty. Then again, well done Robbie, good show.\\n\\nYou\\'ve got to be kidding.\\n\\nAngels is a great song, but not the best song of the last 25 years. Only the best song to be up for nomination at the Brits.\\n\\nI think Angels is a great song and deserved to be in the run up for this award but I don\\'t think its the best song from the past 25 years! Right enough, it is better than some of the others in this catergory, for example, what was Will Young doing being nominated in the first place - he is alright but the song isn\\'t that good! I\\'m happy for Robbie himself though!\\n\\nBest song in the last 25 years? What a Joke! Think of all the great rock and pop songs released in the 80s and pretty much all of them are better than Angels. Phil Collins doesn\\'t deserve awards for all the good songs he wrote? Angels is an overrated song, that got tiresome even before you had finished listening to it. Soppy rubbish at best. Hopefully manufactured rubbish will die down soon, and let the real artists who worked hard for there glory receive awards.\\n\\nSo boringly obvious and typical of the bland nature of mainstream music in Britain today, for me it\\'s proof that music and democracy just don\\'t mix. Still, at least it wasn\\'t Will Young...\\n\\nOh it\\'s all just a bit of fun. People take these awards too seriously! Robbie has millions of loyal fans, while even non-fans know the words to angels. Him winning obviously reflects who votes in these awards. Personally I wanted Will Young to win, but that was not really due to his musical talent!\\n\\nI hate the song, all it brings back is memories of school discos and no-one to slow-dance with!\\n\\nI agree about Angels. I never get fed up hearing it. Whenever the song comes on the radio I turn the radio up, smile and sing along (very badly, that is why the radio has to be turned up to drown my voice out). The song makes me calm and serene and happy. Well done Robbie.\\n\\nI think that although Robbie Williams is a good performer, that Angels isn\\'t really that good a song. It certainly isn\\'t anywhere near as good as Love Will Tear Us Apart by Joy Division or Wuthering Heights by Kate Bush.\\n\\nAngels is a fantastic song. All credit to Robbie Williams and Guy Chambers. It\\'s a song that will be played forever and bridges all age groups.\\n\\nRobbie did in no way deserve that mantle. Whenever we have these awards it is always \\'artists\\' from the past five years that seem to win the best of the best...We forget about the late 80s and early 90s for example. They weren\\'t cool at the time, but because they are cool again now shows that the songs have greater longevity than people think.\\n\\nYes Angels is the best song since the past 25 years, because it touches the soul as it carries a lot of meaning.\\n\\nI\\'ve always disliked Angels intensely. I believe it to be symbolic of the general capacity of British pre-teens, teens and middle aged women to accept low quality/ low aspirational music as \"classic\" songwriting. It\\'s \\'orrible. It seems obvious to me that people who like Robbie are people who don\\'t particularly like music all that much. Folks without collections; folks who have never engaged in that madness one experiences when falling under the spell of pop music. Angels adds nothing - it is merely an irritating distraction - a wasp that refuses to go away on a summer\\'s afternoon picnic. What a dreadful result. If you voted for it - you should feel ashamed of yourself - you probably only know a dozen songs or so don\\'t you - so where do get off applying this uninformed filter and casting this ridiculous vote. Booo hisss\\n\\nAngels, best song? You are kidding, right? Last five years I might be willing to accept, but 25, no way. Did whoever voted for this actually have ANY music knowledge prior to, say, 1995? Really quite insulting to the British music industry of the past quarter of a century.\\n\\nNo surprise about Robbie Williams considering the list. Where on earth did the nominations list come from???? Compiled by an eleven year-old girl perhaps?? I mean, Will Young? Come on.\\n\\nWhat a load of crap, best song in the last 25 years - I don\\'t think so!! What about all the REAL artists out there over the last 25 years - the list is endless, but Robbie Williams doesn\\'t even come close.\\n\\nWhat a joke. That song has become such a bane to me that I have developed a Pavlovian response to the word \\'Angels\\' where I thrash around, and scream \"no no no no no\" until someone tells me \"the radio\\'s off\". Why a half-baked cheesy ditty like Angels, which has become the anthem for millions of romantic sops (think how many times it was sung on Pop Idol for example, and by whom), should be voted the best song of the past 25 years, is beyond me. If this is the song against which all others are judged, then musicians may as well give up.\\n\\nWhy do we reward mediocrity so highly in this country?? The initial list was very weak anyway, but Angels the best song of the last 25 years!!!! I think not, I didn\\'t realize Radio 2 had so many listeners under the age of 10!!\\n\\nPeople have such short memories! A great song yes, but the best of the last 25 years? Not a chance. I think the person as opposed to the song has been voted for here.\\n\\nThe Great British Public at work again. It\\'s a mediocre, sentimental and safe song. Granted, it\\'s not too bad, either. But can it stand up against ANYTHING by The Smiths (in particular \"How Soon is Now?\") or anything from the Stone Roses\\' first album? Nope.\\n\\nNo, Because I\\'m not female and I\\'m not 10!\\n\\nOk I like Robbie and Angels is a decent song. But it is no way the best song of the past 25 years! The shortlist wasn\\'t great but him winning it is a joke!\\n\\nPredictable and laughable.\\n\\nThe success of Angels at this years Brits reflects poorly on the state of British music over the last 25 years. The British public are brainwashed by the corporate pulp that is presneted to them as cutting edge music and true talent is being sadly missed. Whilst Angels is a popular song it is not even the best song in Robbie\\'s repertoire never mind best song of the last 25 years.\\n\\nI am a huge Robbie fan and love that song. But I think there are a lot more outstanding songs / music out there that influenced music today, unfortunately they were left out of the list.\\n\\nHave Radio 2 listeners even heard of Joy Division? A band who, through two albums, have had a bigger impact on music, and continue to do so, over the last 25 years than Robbie Williams ever will.\\n\\nNo doubt about it. There\\'s not a song done by anyone with more emotion and feeling. Some people will adopt their slightly snobby stances, but Angels has hit home with a far larger audience than any other song.\\n\\nIt should have been Joy Division.Those guys have played an influential part in shaping modern day music while Angels remains yet another pop song. I sincerely do not believe that in 25 years from now, the most influential artists will argue that Robbie Williams inspired their art in the way that the Byrds, the Beatles and Nick Drake have done for music today.\\n\\nYes!! I think its a brilliantly written song with different meanings to different people. There were other great songs in the category... but somebody had to win! Robbie was a deserved winner.\\n\\nI am astounded that such a second-rate record has beaten such a line up of amazing songs! it\\'s a terrible song, voted for by the masses who don\\'t have the brains to appreciate innovative and exciting music.\\n\\nThe best song of the past 25 years? Really? Come on, this is surely a joke? No? I think I need a long lie down...\\n\\nIt just goes to show that the british public do not have a clue about good quality music when they pick Robbie Williams over the beautifully talented Kate Bush and Joy Division. I suppose it\\'s confirmed one thing - the British public are consistently dull :- &lt;(\\n\\nNo offence Robbie, but pleeease! There must be a thousand better songs than a formulated cheesy pop song for kids. No one agrees with this and quite frankly it is an embarassment to the integrity of British music, and a further nail in the coffin!\\n\\nI think Robbie deserves it, he has been the most iconic of any stars we have had in Britain since John Lennon and is an idol to millions worldwide. Anybody who says he doesn\\'t deserve it is jealous of his success. The only real challenger was Queen but hey, Another One Bites the Dust!!\\n\\nObviously all the Karaoke singers in the UK voted for it.\\n\\nIf this is the best song of the last 25 years then the British Music industry is in trouble. Sure Robbie is talented and produces excellent material, but this is not the best record.\\n\\nA sad day for music\\n\\nIt\\'s not the type of music I normally like, but even as a diehard rock fan, I recognise that it is a good song and appelas to most people. That\\'s why it has been voted best song of the last 25 years. It\\'s a good all-rounder. Just like Robbie.\\n\\nBest song in 25 years? Since 1980? I\\'m confused. \"Angels\" isn\\'t a bad song. It\\'s a nice, catchy, formulaic anthem that ticks all the boxes. But this is not great music. If anything it\\'s regressive. Bland even. I suppose it\\'s just more evidence of how redundant the Brit Awards have become.\\n\\nGranted angels is a good song, however it really wasn\\'t up against any other proper competition. The Queen\\'s song was lackluster, and apart from Kate Bush, the other choices were pathetic! Also, why weren\\'t the Stones there, David Bowie, etc, there are so many greater songs than Angels...I wonder if it was simply the fact that Robbie wasn\\'t getting more awards so they had to make one up for him!\\n\\nBest song of the last 25 years? What a ridiculuous concept, and an even more ridiculous winner. Sigh. On the upside, at least it wasn\\'t Bohemian Rhapsody, for which we should all be thankful.\\n\\nAngels is without doubt a great song but I really don\\'t think it deserves the title of best song in 25 years.perhaps the vote had more to do with teenage opinion on Robbies\\' goodlooks than the actual song!!! Don\\'t get me wrong, I\\'m not disputing his looks, but there are more deserved winners.\\n\\nIt would have been a travesty had Angels not won. Without Angels, Robbie Williams may well not be where he is now, and Britain would have been deprived of one of its most charismatic and talented performing artists. It has to be seen performed live, with 125,000 people singing along to be fully appreciated. Well done Rob.\\n\\nI find it hard to believe that \\'Angels\\' is the best we have to show for the past 25 years! I\\'m rapidly redifining \\'best\\' in my own head now to mean \\'most gratuitously played at weddings and funerals because people think it has deep meaning\\'. What about Britpop? Blur, Oasis, Suede, Pulp... not only making fantastic songs but also making changes, doing something different. Why must \\'best\\' always come down to most commercially popular?\\n\\nI\\'ve nothing against Robbie, I actually like his music, but how can this possibly be the best song from the last 25year? The Brits has proved to be nothing more than a bargaining tool between the pop moguls to boost band profiles and record sales. The same goes with the Scissor Sisters, I think this is a superb record and thoroughly deserves the newcomer award, but the album comes no where near U2\\'s new record, neither are they in the same league. Once again there have been some baffling discisions made, they are not for artisic reasons, but for profit.\\n\\nNo surprise really, it\\'s voted for by the general public. Since when did they have taste in music?\\n\\nPersonally I find Angels by Robbie Williams to be one of the most irritating songs I have ever heard!\\n\\nIt absolutely deserved to win. It is a song that has united the generations and will continue to be played for many years to come.\\n\\nIt\\'s an absolute joke, however most of the original 25 were very poor choices as well. All in all a pretty pointless exercise !\\n\\nThe song is overplayed and oversentimental. Out of the rather poor five choices that were left, it should have gone to either Joy Division or Queen. I suppose we should be thankful that it didn\\'t end up in the hands of Will Young though.\\n\\nAlthough it has nostalgia value, there is no way it deserved to win. Everybody knows the words to Bohemian Rhapsody, Nothing Compares 2 U, etc. Much better songs and more timeless. Give it to someone with real talent.\\n\\nAlthough Angels is a good song I think that anyone with the slightest musical taste will realise that this is not the best song of the last 25 years. This is just another example of record company manipulation to keep an artist in the public eye. Why not give him an award for the greatest pair of trousers if that\\'s all it means!\\n'"
      ]
     },
     "execution_count": 18,
     "metadata": {},
     "output_type": "execute_result"
    }
   ],
   "source": [
    "df_more10k['Content'].iloc[0]"
   ]
  },
  {
   "cell_type": "code",
   "execution_count": 19,
   "metadata": {},
   "outputs": [
    {
     "data": {
      "image/png": "[encoded data removed]",
      "text/plain": [
       "<Figure size 921.6x432 with 1 Axes>"
      ]
     },
     "metadata": {},
     "output_type": "display_data"
    }
   ],
   "source": [
    "plt.figure(figsize=(12.8,6))\n",
    "sns.boxplot(data=df, x='Category', y='News_length', width=.5);"
   ]
  },
  {
   "cell_type": "code",
   "execution_count": 20,
   "metadata": {},
   "outputs": [
    {
     "data": {
      "image/png": "[encoded data removed]",
      "text/plain": [
       "<Figure size 921.6x432 with 1 Axes>"
      ]
     },
     "metadata": {},
     "output_type": "display_data"
    }
   ],
   "source": [
    "plt.figure(figsize=(12.8,6))\n",
    "sns.boxplot(data=df_95, x='Category', y='News_length');"
   ]
  },
  {
   "cell_type": "markdown",
   "metadata": {},
   "source": [
    "**Catatan:** Walaupun kita lihat bahwa grafid dari df_95 lebih baik tanpa outliers, namun kali ini kita akan gunakan semua data untuk menguji sistem yang akan kita buat."
   ]
  },
  {
   "cell_type": "code",
   "execution_count": 21,
   "metadata": {},
   "outputs": [],
   "source": [
    "with open('Data/News_dataset.pickle', 'wb') as output:\n",
    "    pickle.dump(df, output)"
   ]
  },
  {
   "cell_type": "code",
   "execution_count": null,
   "metadata": {},
   "outputs": [],
   "source": []
  }
 ],
 "metadata": {
  "file_extension": ".py",
  "kernelspec": {
   "display_name": "Python 3",
   "language": "python",
   "name": "python3"
  },
  "language_info": {
   "codemirror_mode": {
    "name": "ipython",
    "version": 3
   },
   "file_extension": ".py",
   "mimetype": "text/x-python",
   "name": "python",
   "nbconvert_exporter": "python",
   "pygments_lexer": "ipython3",
   "version": "3.7.3"
  },
  "mimetype": "text/x-python",
  "name": "python",
  "npconvert_exporter": "python",
  "pygments_lexer": "ipython3",
  "version": 3
 },
 "nbformat": 4,
 "nbformat_minor": 2
}
